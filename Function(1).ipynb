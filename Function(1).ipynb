{
 "cells": [
  {
   "cell_type": "markdown",
   "id": "1603ac83",
   "metadata": {},
   "source": [
    "# Function\n",
    "\n",
    "사용이유\n",
    "- 코드 재사용 가능\n",
    "- 절차적 분해: 한 번에 큰 처리 절차 구현보다 작은 작업 구현하는게 더 쉬움"
   ]
  },
  {
   "cell_type": "code",
   "execution_count": 11,
   "id": "6fa9368f",
   "metadata": {},
   "outputs": [],
   "source": [
    "def add(a,b):\n",
    "    result = a + b\n",
    "    return result"
   ]
  },
  {
   "cell_type": "code",
   "execution_count": 12,
   "id": "1e9798d0",
   "metadata": {},
   "outputs": [
    {
     "data": {
      "text/plain": [
       "300"
      ]
     },
     "execution_count": 12,
     "metadata": {},
     "output_type": "execute_result"
    }
   ],
   "source": [
    "add(100,200)"
   ]
  },
  {
   "cell_type": "code",
   "execution_count": 13,
   "id": "3db0db6b",
   "metadata": {},
   "outputs": [],
   "source": [
    "def add3add5():\n",
    "    return 8\n",
    "# 매개변수가 없을 수 있음"
   ]
  },
  {
   "cell_type": "code",
   "execution_count": 21,
   "id": "dae51675",
   "metadata": {},
   "outputs": [],
   "source": [
    "def print_this(s):\n",
    "    print(s)\n",
    "# 반환값이 없을 수 있음"
   ]
  },
  {
   "cell_type": "code",
   "execution_count": 28,
   "id": "438d1e82",
   "metadata": {},
   "outputs": [],
   "source": [
    "def add_and_mul(a,b):\n",
    "    return (a+b, a*b)"
   ]
  },
  {
   "cell_type": "code",
   "execution_count": 23,
   "id": "ee4f86be",
   "metadata": {},
   "outputs": [],
   "source": [
    "add_res, mul_res = add_and_mul(3,4)"
   ]
  },
  {
   "cell_type": "code",
   "execution_count": 24,
   "id": "57e773f5",
   "metadata": {},
   "outputs": [
    {
     "name": "stdout",
     "output_type": "stream",
     "text": [
      "7\n"
     ]
    }
   ],
   "source": [
    "print(add_res)"
   ]
  },
  {
   "cell_type": "code",
   "execution_count": 88,
   "id": "f106469a",
   "metadata": {},
   "outputs": [],
   "source": [
    "# My Sol\n",
    "\n",
    "def my_len(x):\n",
    "    i=0\n",
    "    length=0\n",
    "    while True:\n",
    "        if x[i]==np.NaN:\n",
    "            length +=1\n",
    "            i+=1\n",
    "            continue\n",
    "        else:\n",
    "            break\n",
    "    return length\n",
    "# 틀린 이유: 너무 len(), range()로 반복문 만드는 거에 집착함. for문 쓰면 리스트에 있는 값 자동으로 데리고 올 수 있음"
   ]
  },
  {
   "cell_type": "code",
   "execution_count": 113,
   "id": "2e775d3e",
   "metadata": {},
   "outputs": [],
   "source": [
    "# Prof Sol\n",
    "\n",
    "def my_len(x):\n",
    "    length = 0\n",
    "    for i in x:\n",
    "        length+=1\n",
    "    return length\n",
    "\n",
    "# 이렇게하면 x의 요소 하나하나마다 length에 1을 더해줌. \n"
   ]
  },
  {
   "cell_type": "code",
   "execution_count": 115,
   "id": "63edd5a1",
   "metadata": {},
   "outputs": [
    {
     "data": {
      "text/plain": [
       "8"
      ]
     },
     "execution_count": 115,
     "metadata": {},
     "output_type": "execute_result"
    }
   ],
   "source": [
    "my_len('alphabet')"
   ]
  },
  {
   "cell_type": "code",
   "execution_count": 107,
   "id": "7ef08cbf",
   "metadata": {},
   "outputs": [],
   "source": [
    "# My_Sol\n",
    "\n",
    "def mult(a,b):\n",
    "    mt = 1\n",
    "    for i in range(b-a+1):\n",
    "        mt = mt*(a+i)\n",
    "    return mt\n",
    "        "
   ]
  },
  {
   "cell_type": "code",
   "execution_count": 119,
   "id": "bfdfb9f2",
   "metadata": {},
   "outputs": [],
   "source": [
    "# Prof_Sol\n",
    "\n",
    "def mult(a,b):\n",
    "    res = 1\n",
    "    for i in range(a,b+1,1):\n",
    "        res*=1\n",
    "    return res"
   ]
  },
  {
   "cell_type": "code",
   "execution_count": 120,
   "id": "4a3f70de",
   "metadata": {},
   "outputs": [],
   "source": [
    "# 숫자로 구성된 리스트를 전달받아 리스트에서 양수 값을 더한 결과와 음수 값을 더한 결과 반환\n",
    "# My_Sol == Prof_Sol\n",
    "\n",
    "def sum_pose_neg(l):\n",
    "    possum=0\n",
    "    negsum=0\n",
    "    for i in l:\n",
    "        if i > 0:\n",
    "            possum+=i\n",
    "        else:\n",
    "            negsum+=i\n",
    "    return (possum, negsum)"
   ]
  },
  {
   "cell_type": "code",
   "execution_count": 127,
   "id": "2c37ef3c",
   "metadata": {},
   "outputs": [
    {
     "name": "stdout",
     "output_type": "stream",
     "text": [
      "7 -9\n",
      "1 -2\n"
     ]
    }
   ],
   "source": [
    "possum, negsum = sum_pose_neg([3,4,-6,-3])\n",
    "possum2, negsum2 = sum_pose_neg([0,0,0,0,0,0,0,1,-2])\n",
    "print(possum, negsum)\n",
    "print(possum2, negsum2)"
   ]
  },
  {
   "cell_type": "markdown",
   "id": "1e4f434a",
   "metadata": {},
   "source": [
    "### 가변 매개변수\n",
    "매개변수가 몇개인지 모름"
   ]
  },
  {
   "cell_type": "code",
   "execution_count": null,
   "id": "7f68a7e0",
   "metadata": {},
   "outputs": [],
   "source": [
    "def f1(a, *b) 정상\n",
    "def f2(a, *b, c) 에러\n",
    "def f3(*a, *b) 에러\n",
    "def f4(a, b, *c) 정상 \n",
    "가변 매개변수 뒤에는 일반 매개변수가 올 수 없음\n",
    "가변 매개변수는 하나만 사용 가능 "
   ]
  },
  {
   "cell_type": "code",
   "execution_count": 128,
   "id": "870f42e8",
   "metadata": {},
   "outputs": [],
   "source": [
    "def count_even(*n):\n",
    "    cnt = 0\n",
    "    for v in n:\n",
    "        if v%2 ==0:\n",
    "            cnt+=1\n",
    "    return cnt"
   ]
  },
  {
   "cell_type": "code",
   "execution_count": 179,
   "id": "84830450",
   "metadata": {},
   "outputs": [],
   "source": [
    "# My Sol\n",
    "\n",
    "import numpy as np\n",
    "\n",
    "def vector_sum(vector, *vectors):\n",
    "    vector = np.array(vector)\n",
    "    for i in vectors:\n",
    "        vector += np.array(i)\n",
    "    return vector\n",
    "\n",
    "# 너무 벡터의 요소를 살리는데 집중했음. 벡터로 바꿔서 계산하지 말고 리스트 요소 각각의 값으로 계산했으면 구할 수 있었음. "
   ]
  },
  {
   "cell_type": "code",
   "execution_count": 189,
   "id": "51e13f8c",
   "metadata": {},
   "outputs": [],
   "source": [
    "# Prof Sol\n",
    "def vector_sum(vector, *vectors):\n",
    "    res = list(vector)\n",
    "    for v in vectors:\n",
    "        res[0]+=+v[0]\n",
    "        res[1]+=+v[1]\n",
    "    return res"
   ]
  },
  {
   "cell_type": "code",
   "execution_count": 190,
   "id": "74fc42d7",
   "metadata": {},
   "outputs": [],
   "source": [
    "v1=[0,1]\n",
    "v2=[0.5,0.5]\n",
    "v3=[1,0]\n",
    "v4=[6,4]\n",
    "v5=[3.13,2.72]"
   ]
  },
  {
   "cell_type": "code",
   "execution_count": 191,
   "id": "5204bf23",
   "metadata": {},
   "outputs": [
    {
     "name": "stdout",
     "output_type": "stream",
     "text": [
      "[1.5, 1.5]\n"
     ]
    }
   ],
   "source": [
    "m1=vector_sum(v1,v2,v3)\n",
    "print(m1)"
   ]
  },
  {
   "cell_type": "markdown",
   "id": "7002c9a5",
   "metadata": {},
   "source": [
    "### 디폴트 매개변수\n",
    "함수 호출 시, 해당 매개변수에 대응되는 값을 주지 않으면 정의할 때 지정한 기본값을 가짐"
   ]
  },
  {
   "cell_type": "code",
   "execution_count": 195,
   "id": "3cd3a985",
   "metadata": {},
   "outputs": [
    {
     "name": "stdout",
     "output_type": "stream",
     "text": [
      "My name is Gldong Hong.\n",
      "My name is Gldong Kim.\n"
     ]
    }
   ],
   "source": [
    "def print_name(first, second = 'Kim'):\n",
    "    print('My name is',first,second +'.')\n",
    "\n",
    "print_name('Gldong','Hong')\n",
    "print_name('Gldong')"
   ]
  },
  {
   "cell_type": "code",
   "execution_count": 198,
   "id": "24c212eb",
   "metadata": {},
   "outputs": [
    {
     "ename": "SyntaxError",
     "evalue": "expected ':' (620984804.py, line 1)",
     "output_type": "error",
     "traceback": [
      "\u001b[0;36m  Cell \u001b[0;32mIn[198], line 1\u001b[0;36m\u001b[0m\n\u001b[0;31m    def print_name(first,second='kim') 정상\u001b[0m\n\u001b[0m                                       ^\u001b[0m\n\u001b[0;31mSyntaxError\u001b[0m\u001b[0;31m:\u001b[0m expected ':'\n"
     ]
    }
   ],
   "source": [
    "def print_name(first,second='kim') 정상\n",
    "def print_name(second='kim', first) 에러\n",
    "def print_name(first='kim',second='lee') 정상"
   ]
  },
  {
   "cell_type": "code",
   "execution_count": 213,
   "id": "c4ed8e5c",
   "metadata": {},
   "outputs": [],
   "source": [
    "# 숫자로 구성된 리스트 2개를 받아 이 두 리스트를 합친 후에 정렬한 새로운 리스트를 반환하는 함수를 작성하시오.\n",
    "# 단, 매개변수 값이 주어지지 않으면 0이 기본적으로 주어진다\n",
    "# My_Sol\n",
    "\n",
    "def merge_list(first=[0],second=[0]):\n",
    "    return (sorted(first+second))"
   ]
  },
  {
   "cell_type": "code",
   "execution_count": 214,
   "id": "e8103cf6",
   "metadata": {},
   "outputs": [],
   "source": [
    "# Prof Sol\n",
    "def merge_list(l1=[0],l2=[0]):\n",
    "    res=[]\n",
    "    a=list(l1)\n",
    "    b=list(l2)\n",
    "    for i in a:\n",
    "        res.append(i)\n",
    "    for i in b:\n",
    "        res.append(i)\n",
    "    res= sorted(res)\n",
    "    return res"
   ]
  },
  {
   "cell_type": "code",
   "execution_count": 215,
   "id": "19d17458",
   "metadata": {},
   "outputs": [
    {
     "name": "stdout",
     "output_type": "stream",
     "text": [
      "[3, 3, 5, 5, 9, 9]\n",
      "[0, 1, 2]\n",
      "[0, 0]\n"
     ]
    }
   ],
   "source": [
    "l = [3,5,9]\n",
    "print(merge_list(l,[3,5,9]))\n",
    "print(merge_list([2,1]))\n",
    "print(merge_list())"
   ]
  },
  {
   "cell_type": "markdown",
   "id": "5cd9f035",
   "metadata": {},
   "source": [
    "### 키워드 매개변수\n",
    "함수 호출 시, 해당 매개변수 이름을 명시적으로 지정해서 전달"
   ]
  },
  {
   "cell_type": "code",
   "execution_count": 197,
   "id": "98455556",
   "metadata": {},
   "outputs": [
    {
     "name": "stdout",
     "output_type": "stream",
     "text": [
      "60\n"
     ]
    }
   ],
   "source": [
    "def calc(x,y=0,z=0):\n",
    "    return x+y+z\n",
    "Result = calc(10,20,30)\n",
    "result = calc(y=20,x=10,z=30)\n",
    "print(result)"
   ]
  },
  {
   "cell_type": "markdown",
   "id": "504535c3",
   "metadata": {},
   "source": [
    "### 지역변수, 전역변수\n",
    "- 지역변수:함수 안에서 만들어져 함수 안에서만 사용하는 변수\n",
    "- 전역변수: 함수 밖에서 만들어져 아무데서나 사용할 수 있는 변수, 단 함수 안에서 전역변수 수정 불가"
   ]
  },
  {
   "cell_type": "code",
   "execution_count": 218,
   "id": "4da4e617",
   "metadata": {},
   "outputs": [],
   "source": [
    "def add_value(a,b):\n",
    "    add_res = a+b\n",
    "    return add_res\n",
    "x=10\n",
    "y=20\n",
    "res=add_value(x,y)"
   ]
  },
  {
   "cell_type": "code",
   "execution_count": null,
   "id": "a73cf91f",
   "metadata": {},
   "outputs": [],
   "source": []
  }
 ],
 "metadata": {
  "kernelspec": {
   "display_name": "Python 3 (ipykernel)",
   "language": "python",
   "name": "python3"
  },
  "language_info": {
   "codemirror_mode": {
    "name": "ipython",
    "version": 3
   },
   "file_extension": ".py",
   "mimetype": "text/x-python",
   "name": "python",
   "nbconvert_exporter": "python",
   "pygments_lexer": "ipython3",
   "version": "3.10.9"
  }
 },
 "nbformat": 4,
 "nbformat_minor": 5
}
