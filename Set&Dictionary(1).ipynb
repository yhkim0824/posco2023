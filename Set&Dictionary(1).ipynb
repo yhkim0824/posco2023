{
 "cells": [
  {
   "cell_type": "markdown",
   "id": "2b120d04",
   "metadata": {},
   "source": [
    "## Set"
   ]
  },
  {
   "cell_type": "code",
   "execution_count": 7,
   "id": "0d20d152",
   "metadata": {},
   "outputs": [
    {
     "data": {
      "text/plain": [
       "{1, 2, 3, 4}"
      ]
     },
     "execution_count": 7,
     "metadata": {},
     "output_type": "execute_result"
    }
   ],
   "source": [
    "s1 = set([1,2,3,3,3,4,2])\n",
    "s1"
   ]
  },
  {
   "cell_type": "code",
   "execution_count": 9,
   "id": "d4cd4fb9",
   "metadata": {},
   "outputs": [],
   "source": [
    "s2={3,4,5}"
   ]
  },
  {
   "cell_type": "code",
   "execution_count": 11,
   "id": "1a321fa0",
   "metadata": {},
   "outputs": [
    {
     "data": {
      "text/plain": [
       "'HelloHello'"
      ]
     },
     "execution_count": 11,
     "metadata": {},
     "output_type": "execute_result"
    }
   ],
   "source": [
    "word = \"Hello\"*2\n",
    "word"
   ]
  },
  {
   "cell_type": "code",
   "execution_count": 16,
   "id": "42ee45ba",
   "metadata": {},
   "outputs": [],
   "source": [
    "s2={3,4,5}"
   ]
  },
  {
   "cell_type": "code",
   "execution_count": 17,
   "id": "f514bc55",
   "metadata": {},
   "outputs": [
    {
     "data": {
      "text/plain": [
       "['H', 'e', 'l', 'l', 'o', 'H', 'e', 'l', 'l', 'o']"
      ]
     },
     "execution_count": 17,
     "metadata": {},
     "output_type": "execute_result"
    }
   ],
   "source": [
    "word_list = list(word)\n",
    "word_list"
   ]
  },
  {
   "cell_type": "code",
   "execution_count": 18,
   "id": "7d97e997",
   "metadata": {},
   "outputs": [],
   "source": [
    "s3 = set(word_list)"
   ]
  },
  {
   "cell_type": "code",
   "execution_count": 19,
   "id": "6d16de8c",
   "metadata": {},
   "outputs": [
    {
     "data": {
      "text/plain": [
       "{'H', 'e', 'l', 'o'}"
      ]
     },
     "execution_count": 19,
     "metadata": {},
     "output_type": "execute_result"
    }
   ],
   "source": [
    "s4 = set(\"Hello\")\n",
    "s4"
   ]
  },
  {
   "cell_type": "code",
   "execution_count": 40,
   "id": "a10e6e05",
   "metadata": {},
   "outputs": [],
   "source": [
    "s={1,2,3,4,5,3,4}"
   ]
  },
  {
   "cell_type": "code",
   "execution_count": 41,
   "id": "f1b1b39a",
   "metadata": {},
   "outputs": [
    {
     "data": {
      "text/plain": [
       "{1, 2, 3, 4, 5, 10}"
      ]
     },
     "execution_count": 41,
     "metadata": {},
     "output_type": "execute_result"
    }
   ],
   "source": [
    "s.add(10)\n",
    "# add는 원소 하나\n",
    "s"
   ]
  },
  {
   "cell_type": "code",
   "execution_count": 43,
   "id": "ff9879bc",
   "metadata": {},
   "outputs": [
    {
     "data": {
      "text/plain": [
       "{1, 2, 3, 4, 10}"
      ]
     },
     "execution_count": 43,
     "metadata": {},
     "output_type": "execute_result"
    }
   ],
   "source": [
    "s.remove(5)\n",
    "# 값이 없으면 오류\n",
    "s"
   ]
  },
  {
   "cell_type": "code",
   "execution_count": 44,
   "id": "1f928b6c",
   "metadata": {},
   "outputs": [
    {
     "data": {
      "text/plain": [
       "{1, 2, 3, 4, 5, 7, 9, 10}"
      ]
     },
     "execution_count": 44,
     "metadata": {},
     "output_type": "execute_result"
    }
   ],
   "source": [
    "s.update([1,3,5,7,9])\n",
    "# update는 원소 여러개(list) 도 가능\n",
    "s"
   ]
  },
  {
   "cell_type": "code",
   "execution_count": 45,
   "id": "8fe43215",
   "metadata": {},
   "outputs": [
    {
     "data": {
      "text/plain": [
       "{1, 2, 3, 4, 7, 9, 10}"
      ]
     },
     "execution_count": 45,
     "metadata": {},
     "output_type": "execute_result"
    }
   ],
   "source": [
    "s.discard(5)\n",
    "# 값이 없어도 오류 안남\n",
    "s"
   ]
  },
  {
   "cell_type": "code",
   "execution_count": 46,
   "id": "ea3ad0c5",
   "metadata": {},
   "outputs": [
    {
     "data": {
      "text/plain": [
       "set()"
      ]
     },
     "execution_count": 46,
     "metadata": {},
     "output_type": "execute_result"
    }
   ],
   "source": [
    "s.clear()\n",
    "s"
   ]
  },
  {
   "cell_type": "markdown",
   "id": "ed935fef",
   "metadata": {},
   "source": [
    "### - 합집합, 교집합, 차집합"
   ]
  },
  {
   "cell_type": "code",
   "execution_count": 47,
   "id": "26b04fea",
   "metadata": {},
   "outputs": [],
   "source": [
    "s1 = {1,2,3}\n",
    "s2 = {3,4,5}"
   ]
  },
  {
   "cell_type": "code",
   "execution_count": 48,
   "id": "5a6d5cc1",
   "metadata": {},
   "outputs": [
    {
     "data": {
      "text/plain": [
       "{1, 2, 3, 4, 5}"
      ]
     },
     "execution_count": 48,
     "metadata": {},
     "output_type": "execute_result"
    }
   ],
   "source": [
    "s1.union(s2)\n",
    "s1|s2\n",
    "\n",
    "# 합집합"
   ]
  },
  {
   "cell_type": "code",
   "execution_count": 49,
   "id": "31ef69f8",
   "metadata": {},
   "outputs": [
    {
     "data": {
      "text/plain": [
       "{3}"
      ]
     },
     "execution_count": 49,
     "metadata": {},
     "output_type": "execute_result"
    }
   ],
   "source": [
    "s1.intersection(s2)\n",
    "s1 & s2\n",
    "# 교집합"
   ]
  },
  {
   "cell_type": "code",
   "execution_count": 55,
   "id": "14dc0174",
   "metadata": {},
   "outputs": [
    {
     "data": {
      "text/plain": [
       "{1, 2}"
      ]
     },
     "execution_count": 55,
     "metadata": {},
     "output_type": "execute_result"
    }
   ],
   "source": [
    "s1.difference(s2)\n",
    "s1 - s2\n",
    "# 차집합"
   ]
  },
  {
   "cell_type": "code",
   "execution_count": 89,
   "id": "3d3ea651",
   "metadata": {},
   "outputs": [],
   "source": [
    "s5 = set()\n",
    "s3 = set()\n",
    "\n",
    "for i in range(1,100):\n",
    "    if i%5==0:\n",
    "        s5.add(i)\n",
    "    if i%3==0:\n",
    "        s3.add(i)"
   ]
  },
  {
   "cell_type": "code",
   "execution_count": 135,
   "id": "7fb507a0",
   "metadata": {},
   "outputs": [
    {
     "name": "stdout",
     "output_type": "stream",
     "text": [
      "15 30 45 60 75 90\n",
      "3과 5의 공배수:6개\n"
     ]
    }
   ],
   "source": [
    "s = s3&s5\n",
    "print(*sorted(s))\n",
    "print(\"3과 5의 공배수:{}개\".format(len(s)))"
   ]
  },
  {
   "cell_type": "markdown",
   "id": "7d7139ed",
   "metadata": {},
   "source": [
    "## Dictionary"
   ]
  },
  {
   "cell_type": "code",
   "execution_count": 102,
   "id": "9afdf11a",
   "metadata": {},
   "outputs": [
    {
     "name": "stdout",
     "output_type": "stream",
     "text": [
      "{'kim': 1, 'park': 2}\n",
      "{'kim': 3, 'park': 2, 'youn': 1}\n"
     ]
    }
   ],
   "source": [
    "d={}\n",
    "d['kim']=1\n",
    "d['park']=2\n",
    "print(d)\n",
    "d['kim']=3\n",
    "d['youn']=1\n",
    "print(d)"
   ]
  },
  {
   "cell_type": "code",
   "execution_count": 112,
   "id": "642fea55",
   "metadata": {},
   "outputs": [
    {
     "data": {
      "text/plain": [
       "dict_values([2, 1])"
      ]
     },
     "execution_count": 112,
     "metadata": {},
     "output_type": "execute_result"
    }
   ],
   "source": [
    "d.keys()\n",
    "d.values()"
   ]
  },
  {
   "cell_type": "code",
   "execution_count": 113,
   "id": "336202a6",
   "metadata": {},
   "outputs": [
    {
     "data": {
      "text/plain": [
       "dict_items([('park', 2), ('youn', 1)])"
      ]
     },
     "execution_count": 113,
     "metadata": {},
     "output_type": "execute_result"
    }
   ],
   "source": [
    "d.items()\n",
    "# 튜플 형태로 저장됨. "
   ]
  },
  {
   "cell_type": "code",
   "execution_count": 136,
   "id": "44a61377",
   "metadata": {},
   "outputs": [
    {
     "name": "stdout",
     "output_type": "stream",
     "text": [
      "3 2 1\n"
     ]
    }
   ],
   "source": [
    "d = {'kim':3,'park':2, 'youn':1}\n",
    "\n",
    "values=[]\n",
    "\n",
    "for i in d.values():\n",
    "    values.append(i)\n",
    "\n",
    "print(*values)"
   ]
  },
  {
   "cell_type": "code",
   "execution_count": 149,
   "id": "7333defe",
   "metadata": {},
   "outputs": [
    {
     "name": "stdout",
     "output_type": "stream",
     "text": [
      "Enter a sentence: Python is fun!\n",
      "{'i': 1, 'f': 1, '!': 1, 'n': 2, 's': 1, 'u': 1, 't': 1, 'y': 1, ' ': 2, 'P': 1, 'o': 1, 'h': 1}\n"
     ]
    }
   ],
   "source": [
    "# My Solution\n",
    "\n",
    "sent = input(\"Enter a sentence: \")\n",
    "alp = set(sent)\n",
    "sent = list(sent)\n",
    "num = []\n",
    "\n",
    "for i in alp:\n",
    "    num.append(sent.count(i))\n",
    "\n",
    "dictionary = dict(zip(alp,num))\n",
    "print(dictionary)"
   ]
  },
  {
   "cell_type": "code",
   "execution_count": 145,
   "id": "278453b7",
   "metadata": {},
   "outputs": [
    {
     "name": "stdout",
     "output_type": "stream",
     "text": [
      "Enter a sentence: Python is fun!\n",
      "{'i': 1, 'f': 1, '!': 1, 'n': 2, 's': 1, 'u': 1, 't': 1, 'y': 1, ' ': 2, 'P': 1, 'o': 1, 'h': 1}\n"
     ]
    }
   ],
   "source": [
    "# Prof Solution\n",
    "\n",
    "sentence = input(\"Enter a sentence: \")\n",
    "s = set(sentence)\n",
    "d = {}\n",
    "for elem in s:\n",
    "    d[elem] = 0\n",
    "for alpha in sentence:\n",
    "    for k in d.keys():\n",
    "        if k==alpha:\n",
    "            d[k]+=1\n",
    "print(d)"
   ]
  },
  {
   "cell_type": "markdown",
   "id": "b726aa14",
   "metadata": {},
   "source": [
    "## List Comprehension, zip()"
   ]
  },
  {
   "cell_type": "code",
   "execution_count": 150,
   "id": "48866c14",
   "metadata": {},
   "outputs": [
    {
     "data": {
      "text/plain": [
       "[1, 2, 3, 4, 5]"
      ]
     },
     "execution_count": 150,
     "metadata": {},
     "output_type": "execute_result"
    }
   ],
   "source": [
    "# for i in range(1,6) = i for i in range(1,6)\n",
    "\n",
    "L = [i for i in range(1,6)]\n",
    "L"
   ]
  },
  {
   "cell_type": "code",
   "execution_count": 151,
   "id": "828c0d74",
   "metadata": {},
   "outputs": [
    {
     "data": {
      "text/plain": [
       "[1, 4, 9, 16, 25]"
      ]
     },
     "execution_count": 151,
     "metadata": {},
     "output_type": "execute_result"
    }
   ],
   "source": [
    "[i**2 for i in range(1,6)]\n",
    "# 나는 i**2 를 넣고싶다. i의 범위는 ~~다"
   ]
  },
  {
   "cell_type": "code",
   "execution_count": 152,
   "id": "f574445a",
   "metadata": {},
   "outputs": [
    {
     "data": {
      "text/plain": [
       "[2, 4]"
      ]
     },
     "execution_count": 152,
     "metadata": {},
     "output_type": "execute_result"
    }
   ],
   "source": [
    "[i for i in range(1,6) if i%2 ==0 ]\n",
    "# 나는 i를 넣고싶다. i%2==0 을 만족시키는range(1,6)에 대해서"
   ]
  },
  {
   "cell_type": "code",
   "execution_count": 153,
   "id": "6198685b",
   "metadata": {},
   "outputs": [
    {
     "data": {
      "text/plain": [
       "[3, 4, 5, 6, 8, 10, 9, 12, 15]"
      ]
     },
     "execution_count": 153,
     "metadata": {},
     "output_type": "execute_result"
    }
   ],
   "source": [
    "# 중첩 for문\n",
    "L1 = [1,2,3]\n",
    "L2 = [3,4,5]\n",
    "[x*y for x in L1 for y in L2]\n",
    "# x*y를 출력할거다. x는 L1에서 오고 y는 L2에서 온다. \n",
    "# 모든 경우의 수가 출력됨. L1[0]*L2[0,1,2], L1[1]*L2[0,1,2]... 이런식으로 \n",
    "\n",
    "# for x in L1:\n",
    "#     for y in L2 랑 같다고 이해하면 된다"
   ]
  },
  {
   "cell_type": "code",
   "execution_count": 159,
   "id": "d8370f42",
   "metadata": {},
   "outputs": [
    {
     "name": "stdout",
     "output_type": "stream",
     "text": [
      "6 5\n",
      "True\n"
     ]
    }
   ],
   "source": [
    "a,b = map(int, input().split())\n",
    "c = True if a > b else False\n",
    "print(c)"
   ]
  },
  {
   "cell_type": "markdown",
   "id": "0f92f8c8",
   "metadata": {},
   "source": [
    "### zip()\n",
    "2개 이상의 리스트를 각 리스트의 같은 인덱스 원소끼리 묶은 튜플을 원소로 하는 리스트를 만들어줌"
   ]
  },
  {
   "cell_type": "code",
   "execution_count": 161,
   "id": "95c5b381",
   "metadata": {},
   "outputs": [
    {
     "data": {
      "text/plain": [
       "[(1, 4), (2, 5), (3, 6)]"
      ]
     },
     "execution_count": 161,
     "metadata": {},
     "output_type": "execute_result"
    }
   ],
   "source": [
    "list(zip([1,2,3],[4,5,6]))"
   ]
  },
  {
   "cell_type": "code",
   "execution_count": 164,
   "id": "89e87968",
   "metadata": {},
   "outputs": [
    {
     "data": {
      "text/plain": [
       "[(1, 4, 'a'), (2, 5, 'b'), (3, 6, 'c')]"
      ]
     },
     "execution_count": 164,
     "metadata": {},
     "output_type": "execute_result"
    }
   ],
   "source": [
    "list(zip([1,2,3],[4,5,6],['a','b','c']))"
   ]
  },
  {
   "cell_type": "code",
   "execution_count": 166,
   "id": "d721da2d",
   "metadata": {},
   "outputs": [
    {
     "data": {
      "text/plain": [
       "[(1, 4), (2, 5), (3, 6)]"
      ]
     },
     "execution_count": 166,
     "metadata": {},
     "output_type": "execute_result"
    }
   ],
   "source": [
    "list(zip((1,2,3),(4,5,6))) \n",
    "# 튜플도 가능"
   ]
  },
  {
   "cell_type": "code",
   "execution_count": 167,
   "id": "e6192e05",
   "metadata": {},
   "outputs": [
    {
     "data": {
      "text/plain": [
       "[5, 7, 9]"
      ]
     },
     "execution_count": 167,
     "metadata": {},
     "output_type": "execute_result"
    }
   ],
   "source": [
    "[sum(x) for x in zip((1,2,3),(4,5,6))]"
   ]
  },
  {
   "cell_type": "code",
   "execution_count": 168,
   "id": "d0ed5995",
   "metadata": {},
   "outputs": [],
   "source": [
    "L1 = ['one','two','three','four']\n",
    "L2 = [1,2,3,4]"
   ]
  },
  {
   "cell_type": "code",
   "execution_count": 172,
   "id": "b036183e",
   "metadata": {},
   "outputs": [
    {
     "data": {
      "text/plain": [
       "{'one': 1, 'two': 2, 'three': 3, 'four': 4}"
      ]
     },
     "execution_count": 172,
     "metadata": {},
     "output_type": "execute_result"
    }
   ],
   "source": [
    "# My Sol\n",
    "\n",
    "dict(zip(L1, L2))"
   ]
  },
  {
   "cell_type": "code",
   "execution_count": 174,
   "id": "eec1da49",
   "metadata": {},
   "outputs": [
    {
     "name": "stdout",
     "output_type": "stream",
     "text": [
      "{'one': 1, 'two': 2, 'three': 3, 'four': 4}\n"
     ]
    }
   ],
   "source": [
    "# Prof Sol\n",
    "\n",
    "L = list(zip(L1, L2))\n",
    "D = {}\n",
    "for i in range(len(L)):\n",
    "    D[L[i][0]] = L[i][1]\n",
    "print(D)\n"
   ]
  },
  {
   "cell_type": "code",
   "execution_count": null,
   "id": "406177a7",
   "metadata": {},
   "outputs": [],
   "source": []
  }
 ],
 "metadata": {
  "kernelspec": {
   "display_name": "Python 3 (ipykernel)",
   "language": "python",
   "name": "python3"
  },
  "language_info": {
   "codemirror_mode": {
    "name": "ipython",
    "version": 3
   },
   "file_extension": ".py",
   "mimetype": "text/x-python",
   "name": "python",
   "nbconvert_exporter": "python",
   "pygments_lexer": "ipython3",
   "version": "3.10.9"
  }
 },
 "nbformat": 4,
 "nbformat_minor": 5
}
