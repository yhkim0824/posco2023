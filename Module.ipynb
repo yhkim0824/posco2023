{
 "cells": [
  {
   "cell_type": "markdown",
   "id": "215de368",
   "metadata": {},
   "source": [
    "# Module\n",
    "많이 사용하는 함수를 만들어 놓고, 프로그램에서 해당 함수 사용시, import 하여 사용하면 편리함\n",
    "- 모듈 이름 생략하고 함수이름만으로 사용하려면 from 모듈명 import *"
   ]
  },
  {
   "cell_type": "code",
   "execution_count": 3,
   "id": "0c807ece",
   "metadata": {},
   "outputs": [
    {
     "data": {
      "text/plain": [
       "3628800"
      ]
     },
     "execution_count": 3,
     "metadata": {},
     "output_type": "execute_result"
    }
   ],
   "source": [
    "import math\n",
    "math.factorial(10)"
   ]
  },
  {
   "cell_type": "code",
   "execution_count": 6,
   "id": "26eb39ff",
   "metadata": {},
   "outputs": [
    {
     "data": {
      "text/plain": [
       "3628800"
      ]
     },
     "execution_count": 6,
     "metadata": {},
     "output_type": "execute_result"
    }
   ],
   "source": [
    "import math as mt\n",
    "mt.factorial(10)"
   ]
  },
  {
   "cell_type": "code",
   "execution_count": 10,
   "id": "7940ff6c",
   "metadata": {},
   "outputs": [
    {
     "data": {
      "text/plain": [
       "3628800"
      ]
     },
     "execution_count": 10,
     "metadata": {},
     "output_type": "execute_result"
    }
   ],
   "source": [
    "from math import factorial\n",
    "factorial(10)"
   ]
  },
  {
   "cell_type": "markdown",
   "id": "26ef0edf",
   "metadata": {},
   "source": [
    "### 난수(random number) 생성"
   ]
  },
  {
   "cell_type": "code",
   "execution_count": 13,
   "id": "688797f8",
   "metadata": {},
   "outputs": [
    {
     "data": {
      "text/plain": [
       "4"
      ]
     },
     "execution_count": 13,
     "metadata": {},
     "output_type": "execute_result"
    }
   ],
   "source": [
    "import random\n",
    "random.choice([1,2,3,4,5]) # 랜덤하게 선택"
   ]
  },
  {
   "cell_type": "code",
   "execution_count": 69,
   "id": "f529580a",
   "metadata": {},
   "outputs": [
    {
     "data": {
      "text/plain": [
       "7"
      ]
     },
     "execution_count": 69,
     "metadata": {},
     "output_type": "execute_result"
    }
   ],
   "source": [
    "random.randint(3,15) # a,b 정수 값 중 하나"
   ]
  },
  {
   "cell_type": "code",
   "execution_count": 41,
   "id": "7277694d",
   "metadata": {},
   "outputs": [
    {
     "data": {
      "text/plain": [
       "12"
      ]
     },
     "execution_count": 41,
     "metadata": {},
     "output_type": "execute_result"
    }
   ],
   "source": [
    "random.randrange(3,16) #randint a, b중 하나 "
   ]
  },
  {
   "cell_type": "code",
   "execution_count": 73,
   "id": "ef380444",
   "metadata": {},
   "outputs": [
    {
     "name": "stdout",
     "output_type": "stream",
     "text": [
      "[5, 2, 3, 4, 1]\n"
     ]
    }
   ],
   "source": [
    "ls = [1,2,3,4,5]\n",
    "random.shuffle(ls)\n",
    "print(ls)\n",
    "# 랜덤으로 섞기"
   ]
  },
  {
   "cell_type": "code",
   "execution_count": 76,
   "id": "17552c56",
   "metadata": {
    "scrolled": true
   },
   "outputs": [
    {
     "data": {
      "text/plain": [
       "[2, 5]"
      ]
     },
     "execution_count": 76,
     "metadata": {},
     "output_type": "execute_result"
    }
   ],
   "source": [
    "random.sample(ls,2)\n",
    "# 랜덤으로 원소 추출"
   ]
  },
  {
   "cell_type": "code",
   "execution_count": 78,
   "id": "74671c02",
   "metadata": {},
   "outputs": [
    {
     "name": "stdout",
     "output_type": "stream",
     "text": [
      "오늘 점심은 된장찌개입니다.\n"
     ]
    }
   ],
   "source": [
    "# 실습 6\n",
    "# My_Sol\n",
    "\n",
    "menu = ['된장찌개','부대찌개','김치찌개','삼계탕','파스타','돈까스','쌀국수']\n",
    "print('오늘 점심은 {}입니다.'.format(random.choice(menu)))"
   ]
  },
  {
   "cell_type": "code",
   "execution_count": 80,
   "id": "8cca53c8",
   "metadata": {},
   "outputs": [],
   "source": [
    "def lunch():\n",
    "    return ('오늘 점심은 {}입니다.'.format(random.choice(menu)))"
   ]
  },
  {
   "cell_type": "code",
   "execution_count": 95,
   "id": "f1cea4a9",
   "metadata": {},
   "outputs": [
    {
     "name": "stdout",
     "output_type": "stream",
     "text": [
      "** 로또 번호 자동 기입을 시작합니다 **\n",
      "1번째 자동 기입 ==>  4 5 12 29 31 44\n",
      "2번째 자동 기입 ==>  10 15 16 21 24 25\n",
      "3번째 자동 기입 ==>  5 8 9 23 25 36\n",
      "4번째 자동 기입 ==>  14 25 26 30 37 40\n",
      "5번째 자동 기입 ==>  16 17 23 28 39 40\n"
     ]
    }
   ],
   "source": [
    "# 실습 7\n",
    "# 5개의 로또 번호 조합을 출력. 1~45 중 6개를 임의로 선택후 정렬하여 출력\n",
    "# My_Sol\n",
    "\n",
    "print(\"** 로또 번호 자동 기입을 시작합니다 **\")\n",
    "for i in range(1,6):\n",
    "    ls = random.sample(range(1,46), 6)\n",
    "    print(\"{}번째 자동 기입 ==> \".format(i), *sorted(ls))"
   ]
  },
  {
   "cell_type": "code",
   "execution_count": 101,
   "id": "89e80466",
   "metadata": {},
   "outputs": [
    {
     "name": "stdout",
     "output_type": "stream",
     "text": [
      "** 로또 번호 자동 기입을 시작합니다 **\n",
      "1번째 자동 기입 ==>  15 20 22 27 34 39\n",
      "2번째 자동 기입 ==>  2 4 9 19 26 31\n",
      "3번째 자동 기입 ==>  23 27 33 39 42 45\n",
      "4번째 자동 기입 ==>  4 13 14 21 24 43\n",
      "5번째 자동 기입 ==>  14 15 16 27 29 32\n"
     ]
    }
   ],
   "source": [
    "# Prof_Sol \n",
    "\n",
    "lst = []\n",
    "for i in range(1,46):\n",
    "    lst.append(i)\n",
    "lst2=[]\n",
    "for i in range(5):\n",
    "    lst2.append(sorted(random.sample(lst,6)))\n",
    "print(\"** 로또 번호 자동 기입을 시작합니다 **\")\n",
    "for i in range(5):\n",
    "    print(\"{}번째 자동 기입 ==> \".format(i+1), *lst2[i])"
   ]
  },
  {
   "cell_type": "code",
   "execution_count": 126,
   "id": "e987f778",
   "metadata": {},
   "outputs": [
    {
     "name": "stdout",
     "output_type": "stream",
     "text": [
      "0\n",
      "13\n",
      "[3, 5, 9, 1, 2, 12]\n"
     ]
    }
   ],
   "source": [
    "# 실습 8\n",
    "# 숫자로 구성된 리스트를 전달받아 최댓값, 최소값을 반환하고 ,두 수를 리스트에서 제거하는 함수를 작성하시오\n",
    "# My_Sol\n",
    "\n",
    "def get_min_max(l):\n",
    "    lmin = min(l)\n",
    "    lmax = max(l)\n",
    "    l.remove(lmin)\n",
    "    l.remove(lmax)\n",
    "    return(lmin,lmax)\n",
    "\n",
    "l=[3,5,9,1,2,0,12,13]\n",
    "min_val, max_val = get_min_max(l)\n",
    "print(min_val)\n",
    "print(max_val)\n",
    "print(l)"
   ]
  },
  {
   "cell_type": "code",
   "execution_count": 124,
   "id": "03613ea5",
   "metadata": {},
   "outputs": [],
   "source": [
    "# Prof_SOl\n",
    "\n",
    "def get_min_max(l):\n",
    "    lmin, lmax = min(l), max(l)\n",
    "    i=0\n",
    "    for _ in range(len(l)):\n",
    "        if lmin == l[i]:\n",
    "            del l[i]\n",
    "        elif lmax == l[i]:\n",
    "            del l[i]\n",
    "        else:\n",
    "            i+=1\n",
    "    return (lmin,lmax)"
   ]
  },
  {
   "cell_type": "code",
   "execution_count": 125,
   "id": "377ddc7f",
   "metadata": {},
   "outputs": [
    {
     "name": "stdout",
     "output_type": "stream",
     "text": [
      "0\n",
      "13\n",
      "[3, 5, 9, 1, 2, 12]\n"
     ]
    }
   ],
   "source": [
    "l=[3,5,9,1,2,0,12,13]\n",
    "min_val, max_val = get_min_max(l)\n",
    "print(min_val)\n",
    "print(max_val)\n",
    "print(l)"
   ]
  },
  {
   "cell_type": "code",
   "execution_count": 162,
   "id": "106aa631",
   "metadata": {},
   "outputs": [
    {
     "ename": "TypeError",
     "evalue": "'builtin_function_or_method' object is not iterable",
     "output_type": "error",
     "traceback": [
      "\u001b[0;31m---------------------------------------------------------------------------\u001b[0m",
      "\u001b[0;31mTypeError\u001b[0m                                 Traceback (most recent call last)",
      "Cell \u001b[0;32mIn[162], line 19\u001b[0m\n\u001b[1;32m     17\u001b[0m d1\u001b[38;5;241m=\u001b[39m{\u001b[38;5;124m'\u001b[39m\u001b[38;5;124ma\u001b[39m\u001b[38;5;124m'\u001b[39m:\u001b[38;5;241m1\u001b[39m,\u001b[38;5;124m'\u001b[39m\u001b[38;5;124mb\u001b[39m\u001b[38;5;124m'\u001b[39m:\u001b[38;5;241m3\u001b[39m,\u001b[38;5;124m'\u001b[39m\u001b[38;5;124md\u001b[39m\u001b[38;5;124m'\u001b[39m:\u001b[38;5;241m7\u001b[39m,\u001b[38;5;124m'\u001b[39m\u001b[38;5;124me\u001b[39m\u001b[38;5;124m'\u001b[39m:\u001b[38;5;241m8\u001b[39m}\n\u001b[1;32m     18\u001b[0m d2\u001b[38;5;241m=\u001b[39m{\u001b[38;5;124m'\u001b[39m\u001b[38;5;124ma\u001b[39m\u001b[38;5;124m'\u001b[39m:\u001b[38;5;241m2\u001b[39m,\u001b[38;5;124m'\u001b[39m\u001b[38;5;124mc\u001b[39m\u001b[38;5;124m'\u001b[39m:\u001b[38;5;241m4\u001b[39m,\u001b[38;5;124m'\u001b[39m\u001b[38;5;124me\u001b[39m\u001b[38;5;124m'\u001b[39m:\u001b[38;5;241m1\u001b[39m}\n\u001b[0;32m---> 19\u001b[0m d3 \u001b[38;5;241m=\u001b[39m \u001b[43mcomb_dict\u001b[49m\u001b[43m(\u001b[49m\u001b[43md1\u001b[49m\u001b[43m,\u001b[49m\u001b[43md2\u001b[49m\u001b[43m)\u001b[49m\n\u001b[1;32m     20\u001b[0m \u001b[38;5;28mprint\u001b[39m(d3)\n",
      "Cell \u001b[0;32mIn[162], line 8\u001b[0m, in \u001b[0;36mcomb_dict\u001b[0;34m(d1, d2)\u001b[0m\n\u001b[1;32m      5\u001b[0m \u001b[38;5;28;01mdef\u001b[39;00m \u001b[38;5;21mcomb_dict\u001b[39m(d1, d2):\n\u001b[1;32m      7\u001b[0m     d3\u001b[38;5;241m=\u001b[39m{}\n\u001b[0;32m----> 8\u001b[0m     \u001b[38;5;28;01mfor\u001b[39;00m i \u001b[38;5;129;01min\u001b[39;00m d1\u001b[38;5;241m.\u001b[39mkeys:\n\u001b[1;32m      9\u001b[0m         \u001b[38;5;28;01mfor\u001b[39;00m j \u001b[38;5;129;01min\u001b[39;00m d2\u001b[38;5;241m.\u001b[39mkeys:\n\u001b[1;32m     10\u001b[0m             \u001b[38;5;28;01mif\u001b[39;00m i\u001b[38;5;241m==\u001b[39mj:\n",
      "\u001b[0;31mTypeError\u001b[0m: 'builtin_function_or_method' object is not iterable"
     ]
    }
   ],
   "source": [
    "# 실습 9\n",
    "# 두 딕셔너리를 전달받아 각 딕셔너리에 등장한 값을 모두 더한 새로운 딕셔너리를 반환하는 함수 comb_dict() 작성\n",
    "# My_Sol\n",
    "\n",
    "def comb_dict(d1, d2):\n",
    "\n",
    "    d3={}\n",
    "    for i in d1.keys:\n",
    "        for j in d2.keys:\n",
    "            if i==j:\n",
    "                d3[i]=d1[i]+d2[j]\n",
    "            else:\n",
    "                d3[i] = d1[i]\n",
    "                d3[j] = d2[j]\n",
    "    return d3\n",
    "\n",
    "d1={'a':1,'b':3,'d':7,'e':8}\n",
    "d2={'a':2,'c':4,'e':1}\n",
    "d3 = comb_dict(d1,d2)\n",
    "print(d3)\n",
    "\n",
    "# 굳이 새로운 딕셔너리를 만들 필요는 없었음. Left outer Join이라 생각하면 편할듯. "
   ]
  },
  {
   "cell_type": "code",
   "execution_count": 151,
   "id": "b91e297a",
   "metadata": {},
   "outputs": [
    {
     "name": "stdout",
     "output_type": "stream",
     "text": [
      "{'a': 1, 'b': 3, 'd': 7, 'e': 8, 'c': 4}\n"
     ]
    }
   ],
   "source": [
    "# Prof_Sol\n",
    "\n",
    "def comb_dict(d1,d2):\n",
    "    d=d1\n",
    "    # key 값이 같으면 value 값을 더해줌\n",
    "    # d1에 없는데 d2에 있는 key에 value 추가\n",
    "    for i in d1.keys():\n",
    "        for i in d2.keys():\n",
    "            if i==j:\n",
    "                d[i]=d1[i]+d2[j]\n",
    "    for k in d2.keys():\n",
    "        # k가 d에 있는 list에 없으면 추가\n",
    "        if not k in d.keys():\n",
    "            d[k] = d2[k]\n",
    "    return d\n",
    "\n",
    "\n",
    "d1={'a':1,'b':3,'d':7,'e':8}\n",
    "d2={'a':2,'c':4,'e':1}\n",
    "d3 = comb_dict(d1,d2)\n",
    "print(d3)\n",
    "            "
   ]
  },
  {
   "cell_type": "code",
   "execution_count": 163,
   "id": "b5ddf9ec",
   "metadata": {},
   "outputs": [
    {
     "data": {
      "text/plain": [
       "4"
      ]
     },
     "execution_count": 163,
     "metadata": {},
     "output_type": "execute_result"
    }
   ],
   "source": [
    "# 실습 10\n",
    "# 숫자를 2개 이상 입력받아 최댓값과 최솟값의 차를 반환하는 함수를 작숫자를 2개 이상 입력받아 최댓값과 최솟값의 차를 반환하는 함수를 작성\n",
    "# My_Sol\n",
    "\n",
    "# *붙은 가변매개변수는 리스트가 아니라 튜플로 봐야됨\n",
    "\n",
    "def diff(a,b, *nums):\n",
    "    lst=[a,b]\n",
    "    for i in nums:\n",
    "        lst.append(i)\n",
    "    subt = max(lst) - min(lst)\n",
    "    return(subt)\n",
    "\n",
    "diff(-100,200)\n",
    "diff(1,2,3,4,5)"
   ]
  },
  {
   "cell_type": "code",
   "execution_count": 167,
   "id": "f81a700b",
   "metadata": {},
   "outputs": [
    {
     "ename": "TypeError",
     "evalue": "diff() missing 1 required positional argument: 'b'",
     "output_type": "error",
     "traceback": [
      "\u001b[0;31m---------------------------------------------------------------------------\u001b[0m",
      "\u001b[0;31mTypeError\u001b[0m                                 Traceback (most recent call last)",
      "Cell \u001b[0;32mIn[167], line 12\u001b[0m\n\u001b[1;32m      9\u001b[0m     \u001b[38;5;28;01mreturn\u001b[39;00m res\n\u001b[1;32m     10\u001b[0m \u001b[38;5;66;03m# diff(-100,200)\u001b[39;00m\n\u001b[1;32m     11\u001b[0m \u001b[38;5;66;03m# diff(1,2,3,4,5)  \u001b[39;00m\n\u001b[0;32m---> 12\u001b[0m \u001b[43mdiff\u001b[49m\u001b[43m(\u001b[49m\u001b[38;5;241;43m100\u001b[39;49m\u001b[43m)\u001b[49m\n",
      "\u001b[0;31mTypeError\u001b[0m: diff() missing 1 required positional argument: 'b'"
     ]
    }
   ],
   "source": [
    "# Prof_Sol\n",
    "\n",
    "def diff(a,b,*c):\n",
    "    lst = list(c)\n",
    "    lst.append(a)\n",
    "    lst.append(b)\n",
    "    res = max(lst)-min(lst)\n",
    "    \n",
    "    return res\n",
    "diff(-100,200)\n",
    "diff(1,2,3,4,5)  "
   ]
  },
  {
   "cell_type": "code",
   "execution_count": null,
   "id": "deb6c874",
   "metadata": {},
   "outputs": [],
   "source": []
  }
 ],
 "metadata": {
  "kernelspec": {
   "display_name": "Python 3 (ipykernel)",
   "language": "python",
   "name": "python3"
  },
  "language_info": {
   "codemirror_mode": {
    "name": "ipython",
    "version": 3
   },
   "file_extension": ".py",
   "mimetype": "text/x-python",
   "name": "python",
   "nbconvert_exporter": "python",
   "pygments_lexer": "ipython3",
   "version": "3.10.9"
  }
 },
 "nbformat": 4,
 "nbformat_minor": 5
}
